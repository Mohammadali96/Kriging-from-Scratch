{
 "cells": [
  {
   "cell_type": "markdown",
   "id": "486a210c-3d88-4c62-bebd-af09f4acf709",
   "metadata": {},
   "source": [
    "# Krigin from Scratch"
   ]
  },
  {
   "cell_type": "code",
   "execution_count": 18,
   "id": "cacb8127-cd39-4297-9766-23c47df2f02a",
   "metadata": {},
   "outputs": [],
   "source": [
    "import numpy as np\n",
    "import pandas as pd\n",
    "from math import *\n",
    "import matplotlib\n",
    "matplotlib.use('TkAgg')\n",
    "from matplotlib import pyplot as plt"
   ]
  },
  {
   "cell_type": "markdown",
   "id": "fd252417-fbb3-4ca2-88d2-282a29522919",
   "metadata": {},
   "source": [
    "### Variogram Modeling\n",
    "Insert your variogram model results.\n",
    "\n",
    "Here, my model is spherical with a range of 4m, sill = 1, and nugget = 0.\n",
    "\n",
    "You can change the parameters as you want.\n",
    "\n",
    "You can create your variogram model and find more about variogram modeling in my other repository at the following link: https://github.com/Mohammadali96/Geostatistical-Simulation/tree/main\n",
    "\n",
    "\n",
    "<img src=\"Geos3.png\" width = \"500\" height = \"340\">"
   ]
  },
  {
   "cell_type": "code",
   "execution_count": 19,
   "id": "913a3e85-c93a-4403-be66-601590782ba1",
   "metadata": {},
   "outputs": [],
   "source": [
    "nugget = 0\n",
    "sill = 1\n",
    "rang = 4\n"
   ]
  },
  {
   "cell_type": "markdown",
   "id": "17e4f86d-a9fe-4056-9b71-cad064b36f54",
   "metadata": {},
   "source": [
    "### Kriging Mathematics\n",
    "<img src=\"krig1.PNG\" width = \"800\" height = \"440\">\n",
    "\n",
    "\n",
    "\n",
    "<img src=\"krig2.PNG\" width = \"800\" height = \"440\">"
   ]
  },
  {
   "cell_type": "markdown",
   "id": "e6b50e5a-4edf-443b-a903-42c1c88e4b9d",
   "metadata": {},
   "source": [
    "### Making Matrix A and B"
   ]
  },
  {
   "cell_type": "code",
   "execution_count": 20,
   "id": "4a266062-73d1-4fdb-bdeb-b3d6ad313baf",
   "metadata": {},
   "outputs": [],
   "source": [
    "def semivariance (nug, sil, ran, h):\n",
    "    sv = nug + sil*(3/2*h/ran-0.5*(h/ran)**3)\n",
    "    if sv.shape[0] > 1:\n",
    "        onescol = np.ones(sv.shape[0])\n",
    "        sv = np.insert(sv, sv.shape[1], onescol, axis=1)\n",
    "        onesrow = np.ones(sv.shape[1])\n",
    "        sv = np.insert(sv, sv.shape[0], onesrow, axis=0)\n",
    "        sv[sv.shape[0]-1][sv.shape[1]-1] = 0\n",
    "    else:\n",
    "        onescol = np.ones(sv.shape[0])\n",
    "        sv = np.insert(sv, sv.shape[1], onescol, axis=1)\n",
    "        sv = sv.transpose()\n",
    "    return sv"
   ]
  },
  {
   "cell_type": "markdown",
   "id": "fde7245a-a7f1-4cc7-8258-98cb0b351b46",
   "metadata": {},
   "source": [
    "### Finding distances between known locations "
   ]
  },
  {
   "cell_type": "code",
   "execution_count": 21,
   "id": "1a8eded5-4801-4a69-824c-8681f4163bfa",
   "metadata": {},
   "outputs": [],
   "source": [
    "\n",
    "def distancematrix(X, Y):\n",
    "    templist = []\n",
    "    for i, j in zip(X, Y):\n",
    "        for e, d in zip(X, Y):\n",
    "            dist = sqrt((((i - e) ** 2 + (j - d) ** 2)))\n",
    "            templist.append(dist)\n",
    "    distancemat = np.array([templist[x:x + len(X)] for x in range(0, len(templist), len(X))])\n",
    "    return distancemat\n"
   ]
  },
  {
   "cell_type": "markdown",
   "id": "92704f60-5c38-4a18-b45b-673e05f6ec12",
   "metadata": {},
   "source": [
    "### Finding distances between known and unknown locations "
   ]
  },
  {
   "cell_type": "code",
   "execution_count": 22,
   "id": "f0fd7627-f056-455d-9a9d-5ab7edef1d2a",
   "metadata": {},
   "outputs": [],
   "source": [
    "\n",
    "def distanceUn(X1, Y1, X2, Y2):\n",
    "    lst = []\n",
    "    for k, l in zip(X2, Y2):\n",
    "        dist = sqrt((((X1 - k) ** 2 + (Y1 - l) ** 2)))\n",
    "        lst.append(dist)\n",
    "    unknown = np.array([lst])\n",
    "    return unknown"
   ]
  },
  {
   "cell_type": "markdown",
   "id": "82faaa8a-9dbb-4e44-88b8-ce9c2ac0362b",
   "metadata": {},
   "source": [
    "### Calculating Weights and Ordinary Kriging"
   ]
  },
  {
   "cell_type": "code",
   "execution_count": 23,
   "id": "3d48fb0b-d890-4b7d-87e9-c862857cadd8",
   "metadata": {},
   "outputs": [],
   "source": [
    "def OK (dataX,dataY,unknownX,unknownY,Variable):\n",
    "    Var1 = np.reshape(Variable, (Variable.shape[0],1))\n",
    "    Var1 = Var1.transpose()\n",
    "    matdist_N = distancematrix(dataX,dataY)\n",
    "    matdist_U = distanceUn(unknownX,unknownY,dataX,dataY)\n",
    "    N_SV = semivariance(nugget,sill,rang,matdist_N)\n",
    "    U_SV = semivariance(nugget,sill,rang,matdist_U)\n",
    "    inv_N_SV = np.linalg.inv(N_SV)\n",
    "    Weights = np.matmul(inv_N_SV, U_SV)\n",
    "    Weights = np.delete(Weights,Weights.shape[0]-1,0)\n",
    "    Estimation = np.dot(Var1, Weights)\n",
    "    return Estimation[0]"
   ]
  },
  {
   "cell_type": "markdown",
   "id": "54980ca3-9a6e-49b6-8723-167f5fcc60b8",
   "metadata": {},
   "source": [
    "### Making grid and defining interpolation area based on dataset"
   ]
  },
  {
   "cell_type": "code",
   "execution_count": 24,
   "id": "a29137ac-58d9-4b69-b487-1db7b4518a5c",
   "metadata": {},
   "outputs": [],
   "source": [
    "def interpolation(X,Y,Variable,ResX, ResY):\n",
    "    ResolutionX = ResX\n",
    "    ResolutionY = ResY\n",
    "    X_mesh = np.linspace(np.amin(X) , np.amax(X) + 1, ResolutionX)\n",
    "    y_mesh = np.linspace(np.amin(Y), np.amax(Y) , ResolutionY)\n",
    "    XX, YY = np.meshgrid(X_mesh, y_mesh)\n",
    "    EX = []\n",
    "    EY = []\n",
    "    EZ = []\n",
    "\n",
    "    for x in np.nditer(XX):\n",
    "        EX.append(float(x))\n",
    "    for y in np.nditer(YY):\n",
    "        EY.append(float(y))\n",
    "\n",
    "    Grid1 = pd.DataFrame(data={'X': EX, 'Y': EY})\n",
    "    for index, rows in Grid1.iterrows():\n",
    "        estimated = OK(X, Y, rows['X'], rows['Y'], Variable)\n",
    "        EZ.append(float(estimated))  # Ensure each estimate is a flat float, not a list\n",
    "\n",
    "\n",
    "    Grid = pd.DataFrame(data={'X': EX, 'Y': EY, 'Z': EZ})\n",
    "    return Grid"
   ]
  },
  {
   "cell_type": "markdown",
   "id": "045a3c77-1784-4324-9400-f2d6b876f6af",
   "metadata": {},
   "source": [
    "## Estimation\n",
    "### Importing Data"
   ]
  },
  {
   "cell_type": "code",
   "execution_count": 25,
   "id": "a62cfebe-7141-4740-bd22-438b7a02ee6c",
   "metadata": {},
   "outputs": [],
   "source": [
    "dataset = pd.read_csv(\"All Data.csv\")\n",
    "X = dataset['X'].to_numpy()\n",
    "Y = dataset['Y'].to_numpy()  \n",
    "Var = dataset['Var'].to_numpy()"
   ]
  },
  {
   "cell_type": "markdown",
   "id": "5210cf87-ff69-462e-8f39-fe8e8a6334b4",
   "metadata": {},
   "source": [
    "### Defining Grid Resolution"
   ]
  },
  {
   "cell_type": "code",
   "execution_count": 26,
   "id": "5d19eb77-2861-4945-8165-3a4ec746aab1",
   "metadata": {},
   "outputs": [],
   "source": [
    "\n",
    "MyResX = 40   # Grid cells in X dir\n",
    "MyResY = 10   # Grid cells in Y dir\n"
   ]
  },
  {
   "cell_type": "markdown",
   "id": "6f14a647-f012-4460-bb82-2afe43e9c4ec",
   "metadata": {},
   "source": [
    "### Runing Kriging"
   ]
  },
  {
   "cell_type": "code",
   "execution_count": 27,
   "id": "115892c4-4706-4477-be06-7b41933d2d84",
   "metadata": {},
   "outputs": [
    {
     "name": "stderr",
     "output_type": "stream",
     "text": [
      "C:\\Users\\Rezaee\\AppData\\Local\\Temp\\ipykernel_12380\\123522822.py:19: DeprecationWarning: Conversion of an array with ndim > 0 to a scalar is deprecated, and will error in future. Ensure you extract a single element from your array before performing this operation. (Deprecated NumPy 1.25.)\n",
      "  EZ.append(float(estimated))  # Ensure each estimate is a flat float, not a list\n"
     ]
    },
    {
     "name": "stdout",
     "output_type": "stream",
     "text": [
      "             X     Y         Z\n",
      "0     0.000000 -10.5  8.561886\n",
      "1     1.025641 -10.5  7.898634\n",
      "2     2.051282 -10.5  8.107548\n",
      "3     3.076923 -10.5  8.246407\n",
      "4     4.102564 -10.5  8.361870\n",
      "..         ...   ...       ...\n",
      "395  35.897436  -0.1 -2.883704\n",
      "396  36.923077  -0.1 -2.432144\n",
      "397  37.948718  -0.1 -1.252560\n",
      "398  38.974359  -0.1 -0.048255\n",
      "399  40.000000  -0.1  1.540467\n",
      "\n",
      "[400 rows x 3 columns]\n"
     ]
    }
   ],
   "source": [
    "estimated_var = interpolation(X, Y, Var, MyResX,MyResY)\n",
    "print(estimated_var)"
   ]
  },
  {
   "cell_type": "markdown",
   "id": "d4651fcb-6606-473d-a187-de4f5c1d5a2d",
   "metadata": {},
   "source": [
    "### Plot the Results"
   ]
  },
  {
   "cell_type": "code",
   "execution_count": 39,
   "id": "ef077583-9add-4ae5-b0ee-398bc1e9afad",
   "metadata": {},
   "outputs": [],
   "source": [
    "# Extract X, Y, Z from estimated_var\n",
    "X_grid = estimated_var['X'].to_numpy()\n",
    "Y_grid = estimated_var['Y'].to_numpy()\n",
    "Z_grid = estimated_var['Z'].to_numpy()\n",
    "\n",
    "# Reshape Z to match the meshgrid shape\n",
    "Z_reshaped = Z_grid.reshape(MyResY, MyResX)  \n",
    "\n",
    "# Plot the entire grid\n",
    "plt.figure()\n",
    "plt.subplot(122)\n",
    "plt.title('Estimation')\n",
    "plt.imshow(Z_reshaped, extent=[np.min(X_grid), np.max(X_grid), np.min(Y_grid), np.max(Y_grid)], origin='lower', cmap='plasma', aspect='auto')\n",
    "plt.colorbar(label='Estimated Variable (unit)')\n",
    "plt.xlabel('X')\n",
    "plt.ylabel('Depth(m)')\n",
    "\n",
    "# plot initial data\n",
    "plt.subplot(121)\n",
    "xx = dataset['X'].to_numpy()\n",
    "yy = dataset['Y'].to_numpy()  \n",
    "zz = dataset['Var'].to_numpy()\n",
    "\n",
    "sc= plt.scatter(xx, yy, c=zz, vmin=0, vmax=25, cmap='plasma')\n",
    "plt.title('Initial Data')\n",
    "plt.xlabel('X(m)')\n",
    "plt.ylabel('Depth(m)')\n",
    "plt.colorbar(label='Variable (unit)')\n",
    "plt.show()"
   ]
  },
  {
   "cell_type": "markdown",
   "id": "1aa596a1-1fc4-48ec-962c-9e960f3c9afd",
   "metadata": {},
   "source": [
    "<img src=\"krig3.png\" width = \"1000\" height = \"440\">"
   ]
  }
 ],
 "metadata": {
  "kernelspec": {
   "display_name": "Python 3 (ipykernel)",
   "language": "python",
   "name": "python3"
  },
  "language_info": {
   "codemirror_mode": {
    "name": "ipython",
    "version": 3
   },
   "file_extension": ".py",
   "mimetype": "text/x-python",
   "name": "python",
   "nbconvert_exporter": "python",
   "pygments_lexer": "ipython3",
   "version": "3.11.4"
  }
 },
 "nbformat": 4,
 "nbformat_minor": 5
}
